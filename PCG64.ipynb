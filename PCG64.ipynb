{
 "cells": [
  {
   "cell_type": "markdown",
   "metadata": {},
   "source": [
    "# Visualizing the PCG64"
   ]
  },
  {
   "cell_type": "markdown",
   "metadata": {},
   "source": [
    "## Permutation Congruential Generator (PCG)\n",
    "1. **Linear Congruential Generator** state update function\n",
    "2. 128-bit arithmetic\n",
    "3. Output randomization through bit rotation and XOR"
   ]
  },
  {
   "cell_type": "markdown",
   "metadata": {},
   "source": [
    "### Linear Congruential Generator\n",
    "$$X_{n+1} = (a \\cdot X_n + c) \\, \\text{mod} \\, m$$\n",
    "\n",
    "Where:\n",
    "- $ X_n $ is the current state.\n",
    "- $ a $ is a **multiplier**.\n",
    "- $ c $ is an **increment**.\n",
    "- $ m $ is the **modulus**."
   ]
  },
  {
   "cell_type": "markdown",
   "metadata": {},
   "source": [
    "\n",
    "#### Let's Define the Constants\n"
   ]
  },
  {
   "cell_type": "code",
   "execution_count": 2,
   "metadata": {},
   "outputs": [],
   "source": [
    "MULTIPLIER = 6364136223846793005\n",
    "INCREMENT = 1442695040888963407\n",
    "MODULUS = 2**64"
   ]
  },
  {
   "cell_type": "markdown",
   "metadata": {},
   "source": [
    "#### Choice of Multiplier and Increment\n",
    "When choosing the **multiplier** and **increment** we need to avoid correlations, ensure good randomness and distribution, and independence of streams.\n",
    "##### Multiplier\n",
    "The multiplier is chosen such that the LCG has a period of $2^{128}$. This means that the sequence will only repeat after $2^{128}$ iterations, which is effectively infinite for most practical purposes. A carefully chosen multiplier ensures that the bits of the state are mixed thoroughly, leading to a uniform distribution of numbers.\n",
    "\n",
    "For PCG64, the value $a = 6364136223846793005$ is chosen based on empirical testing and theoretical research to ensure that the resulting sequence will have good distribution and a long period.\n",
    "\n",
    "##### Stream Identifier\n",
    "The **increment** is particularly important for generating **multiple independent streams**, ensuring they do not overlap. Hence **increment** in PCG64 is called a **stream parameter**. It is particularly useful when running parallel simulations where each process needs its own independent sequence of random numbers.\n",
    "\n",
    "The **stream parameter** is calculated to guarantee:\n",
    "- Different increments will produce **statistically independent** streams.\n",
    "- The sequences are generated with different initializations, and they will not converge or overlap for any reasonably large number of iterations.\n",
    "\n",
    "In LCGs, an increment that is relatively prime to the modulus ensures full coverage of the state space (i.e., all possible values are visited). This means $c$ and $m$ have no common divisors except 1. For PCG64, the increment value is also chosen to provide a unique offset, allowing multiple independent streams of random numbers.\n",
    "\n",
    "Therefore increment or $c$ with a value of $1442695040888963407$ has been validated through research and careful tuning to ensure that in combination with our chose value for the **multiplier** $a$ it is effective for 128-bit state and 64-bit random outputs."
   ]
  }
 ],
 "metadata": {
  "kernelspec": {
   "display_name": "dk-python-playground",
   "language": "python",
   "name": "python3"
  },
  "language_info": {
   "codemirror_mode": {
    "name": "ipython",
    "version": 3
   },
   "file_extension": ".py",
   "mimetype": "text/x-python",
   "name": "python",
   "nbconvert_exporter": "python",
   "pygments_lexer": "ipython3",
   "version": "3.12.7"
  }
 },
 "nbformat": 4,
 "nbformat_minor": 2
}
